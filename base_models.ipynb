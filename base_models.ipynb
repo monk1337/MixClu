{
 "cells": [
  {
   "cell_type": "code",
   "execution_count": 1,
   "metadata": {},
   "outputs": [],
   "source": [
    "from mixclu import *\n"
   ]
  },
  {
   "cell_type": "code",
   "execution_count": 40,
   "metadata": {},
   "outputs": [
    {
     "data": {
      "text/html": [
       "<div>\n",
       "<style scoped>\n",
       "    .dataframe tbody tr th:only-of-type {\n",
       "        vertical-align: middle;\n",
       "    }\n",
       "\n",
       "    .dataframe tbody tr th {\n",
       "        vertical-align: top;\n",
       "    }\n",
       "\n",
       "    .dataframe thead th {\n",
       "        text-align: right;\n",
       "    }\n",
       "</style>\n",
       "<table border=\"1\" class=\"dataframe\">\n",
       "  <thead>\n",
       "    <tr style=\"text-align: right;\">\n",
       "      <th></th>\n",
       "      <th>X0</th>\n",
       "      <th>X1</th>\n",
       "      <th>X2</th>\n",
       "      <th>X3</th>\n",
       "      <th>X4</th>\n",
       "      <th>X5</th>\n",
       "      <th>X6</th>\n",
       "      <th>X7</th>\n",
       "    </tr>\n",
       "  </thead>\n",
       "  <tbody>\n",
       "    <tr>\n",
       "      <th>0</th>\n",
       "      <td>-0.000613</td>\n",
       "      <td>-0.037113</td>\n",
       "      <td>1</td>\n",
       "      <td>0</td>\n",
       "      <td>0.602197</td>\n",
       "      <td>-1.625200</td>\n",
       "      <td>-0.577438</td>\n",
       "      <td>-0.322381</td>\n",
       "    </tr>\n",
       "    <tr>\n",
       "      <th>1</th>\n",
       "      <td>-0.137942</td>\n",
       "      <td>-0.104871</td>\n",
       "      <td>1</td>\n",
       "      <td>0</td>\n",
       "      <td>0.663511</td>\n",
       "      <td>-1.495282</td>\n",
       "      <td>-0.278527</td>\n",
       "      <td>-0.393055</td>\n",
       "    </tr>\n",
       "    <tr>\n",
       "      <th>2</th>\n",
       "      <td>1.048869</td>\n",
       "      <td>-1.223108</td>\n",
       "      <td>0</td>\n",
       "      <td>1</td>\n",
       "      <td>0.779135</td>\n",
       "      <td>0.592948</td>\n",
       "      <td>-0.799968</td>\n",
       "      <td>1.561893</td>\n",
       "    </tr>\n",
       "    <tr>\n",
       "      <th>3</th>\n",
       "      <td>1.249108</td>\n",
       "      <td>-1.442275</td>\n",
       "      <td>0</td>\n",
       "      <td>1</td>\n",
       "      <td>0.869486</td>\n",
       "      <td>0.518838</td>\n",
       "      <td>-0.725651</td>\n",
       "      <td>1.218348</td>\n",
       "    </tr>\n",
       "    <tr>\n",
       "      <th>4</th>\n",
       "      <td>-1.061977</td>\n",
       "      <td>1.190309</td>\n",
       "      <td>0</td>\n",
       "      <td>1</td>\n",
       "      <td>-1.306833</td>\n",
       "      <td>0.837933</td>\n",
       "      <td>1.209192</td>\n",
       "      <td>-0.650815</td>\n",
       "    </tr>\n",
       "    <tr>\n",
       "      <th>5</th>\n",
       "      <td>0.154725</td>\n",
       "      <td>0.162645</td>\n",
       "      <td>1</td>\n",
       "      <td>0</td>\n",
       "      <td>0.463527</td>\n",
       "      <td>-1.459754</td>\n",
       "      <td>-0.540702</td>\n",
       "      <td>-0.659512</td>\n",
       "    </tr>\n",
       "    <tr>\n",
       "      <th>6</th>\n",
       "      <td>0.083269</td>\n",
       "      <td>0.095759</td>\n",
       "      <td>1</td>\n",
       "      <td>0</td>\n",
       "      <td>0.604802</td>\n",
       "      <td>-1.395475</td>\n",
       "      <td>-0.417023</td>\n",
       "      <td>-0.527783</td>\n",
       "    </tr>\n",
       "    <tr>\n",
       "      <th>7</th>\n",
       "      <td>0.117085</td>\n",
       "      <td>-0.040658</td>\n",
       "      <td>1</td>\n",
       "      <td>0</td>\n",
       "      <td>0.457656</td>\n",
       "      <td>-1.422874</td>\n",
       "      <td>-0.605057</td>\n",
       "      <td>-0.174865</td>\n",
       "    </tr>\n",
       "    <tr>\n",
       "      <th>8</th>\n",
       "      <td>-1.352409</td>\n",
       "      <td>0.981163</td>\n",
       "      <td>0</td>\n",
       "      <td>0</td>\n",
       "      <td>-1.446624</td>\n",
       "      <td>0.796105</td>\n",
       "      <td>1.571806</td>\n",
       "      <td>-0.811178</td>\n",
       "    </tr>\n",
       "    <tr>\n",
       "      <th>9</th>\n",
       "      <td>1.155845</td>\n",
       "      <td>-1.089573</td>\n",
       "      <td>0</td>\n",
       "      <td>1</td>\n",
       "      <td>0.953619</td>\n",
       "      <td>0.596984</td>\n",
       "      <td>-1.051614</td>\n",
       "      <td>1.056140</td>\n",
       "    </tr>\n",
       "  </tbody>\n",
       "</table>\n",
       "</div>"
      ],
      "text/plain": [
       "         X0        X1  X2  X3        X4        X5        X6        X7\n",
       "0 -0.000613 -0.037113   1   0  0.602197 -1.625200 -0.577438 -0.322381\n",
       "1 -0.137942 -0.104871   1   0  0.663511 -1.495282 -0.278527 -0.393055\n",
       "2  1.048869 -1.223108   0   1  0.779135  0.592948 -0.799968  1.561893\n",
       "3  1.249108 -1.442275   0   1  0.869486  0.518838 -0.725651  1.218348\n",
       "4 -1.061977  1.190309   0   1 -1.306833  0.837933  1.209192 -0.650815\n",
       "5  0.154725  0.162645   1   0  0.463527 -1.459754 -0.540702 -0.659512\n",
       "6  0.083269  0.095759   1   0  0.604802 -1.395475 -0.417023 -0.527783\n",
       "7  0.117085 -0.040658   1   0  0.457656 -1.422874 -0.605057 -0.174865\n",
       "8 -1.352409  0.981163   0   0 -1.446624  0.796105  1.571806 -0.811178\n",
       "9  1.155845 -1.089573   0   1  0.953619  0.596984 -1.051614  1.056140"
      ]
     },
     "execution_count": 40,
     "metadata": {},
     "output_type": "execute_result"
    }
   ],
   "source": [
    "np.random.seed(10)\n",
    "df, cat_columns, con_feats, y = get_dummy_data(50, \n",
    "                                               8, \n",
    "                                               2,\n",
    "                                               centers        = 3,\n",
    "                                               missing_values = None, \n",
    "                                               id_cols        = None)\n",
    "df.head(10)"
   ]
  },
  {
   "cell_type": "code",
   "execution_count": 30,
   "metadata": {},
   "outputs": [
    {
     "name": "stderr",
     "output_type": "stream",
     "text": [
      "/Users/monk/Desktop/MixClu/mixclu/models.py:30: SettingWithCopyWarning: \n",
      "A value is trying to be set on a copy of a slice from a DataFrame.\n",
      "Try using .loc[row_indexer,col_indexer] = value instead\n",
      "\n",
      "See the caveats in the documentation: https://pandas.pydata.org/pandas-docs/stable/user_guide/indexing.html#returning-a-view-versus-a-copy\n",
      "  df['clusters']   = list(clusters)\n"
     ]
    },
    {
     "data": {
      "text/html": [
       "<div>\n",
       "<style scoped>\n",
       "    .dataframe tbody tr th:only-of-type {\n",
       "        vertical-align: middle;\n",
       "    }\n",
       "\n",
       "    .dataframe tbody tr th {\n",
       "        vertical-align: top;\n",
       "    }\n",
       "\n",
       "    .dataframe thead th {\n",
       "        text-align: right;\n",
       "    }\n",
       "</style>\n",
       "<table border=\"1\" class=\"dataframe\">\n",
       "  <thead>\n",
       "    <tr style=\"text-align: right;\">\n",
       "      <th></th>\n",
       "      <th>X1</th>\n",
       "      <th>X0</th>\n",
       "      <th>X7</th>\n",
       "      <th>X4</th>\n",
       "      <th>X5</th>\n",
       "      <th>X6</th>\n",
       "      <th>clusters</th>\n",
       "    </tr>\n",
       "  </thead>\n",
       "  <tbody>\n",
       "    <tr>\n",
       "      <th>0</th>\n",
       "      <td>-0.037113</td>\n",
       "      <td>-0.000613</td>\n",
       "      <td>-0.322381</td>\n",
       "      <td>0.602197</td>\n",
       "      <td>-1.625200</td>\n",
       "      <td>-0.577438</td>\n",
       "      <td>2</td>\n",
       "    </tr>\n",
       "    <tr>\n",
       "      <th>1</th>\n",
       "      <td>-0.104871</td>\n",
       "      <td>-0.137942</td>\n",
       "      <td>-0.393055</td>\n",
       "      <td>0.663511</td>\n",
       "      <td>-1.495282</td>\n",
       "      <td>-0.278527</td>\n",
       "      <td>2</td>\n",
       "    </tr>\n",
       "    <tr>\n",
       "      <th>2</th>\n",
       "      <td>-1.223108</td>\n",
       "      <td>1.048869</td>\n",
       "      <td>1.561893</td>\n",
       "      <td>0.779135</td>\n",
       "      <td>0.592948</td>\n",
       "      <td>-0.799968</td>\n",
       "      <td>1</td>\n",
       "    </tr>\n",
       "    <tr>\n",
       "      <th>3</th>\n",
       "      <td>-1.442275</td>\n",
       "      <td>1.249108</td>\n",
       "      <td>1.218348</td>\n",
       "      <td>0.869486</td>\n",
       "      <td>0.518838</td>\n",
       "      <td>-0.725651</td>\n",
       "      <td>1</td>\n",
       "    </tr>\n",
       "    <tr>\n",
       "      <th>4</th>\n",
       "      <td>1.190309</td>\n",
       "      <td>-1.061977</td>\n",
       "      <td>-0.650815</td>\n",
       "      <td>-1.306833</td>\n",
       "      <td>0.837933</td>\n",
       "      <td>1.209192</td>\n",
       "      <td>0</td>\n",
       "    </tr>\n",
       "  </tbody>\n",
       "</table>\n",
       "</div>"
      ],
      "text/plain": [
       "         X1        X0        X7        X4        X5        X6  clusters\n",
       "0 -0.037113 -0.000613 -0.322381  0.602197 -1.625200 -0.577438         2\n",
       "1 -0.104871 -0.137942 -0.393055  0.663511 -1.495282 -0.278527         2\n",
       "2 -1.223108  1.048869  1.561893  0.779135  0.592948 -0.799968         1\n",
       "3 -1.442275  1.249108  1.218348  0.869486  0.518838 -0.725651         1\n",
       "4  1.190309 -1.061977 -0.650815 -1.306833  0.837933  1.209192         0"
      ]
     },
     "execution_count": 30,
     "metadata": {},
     "output_type": "execute_result"
    }
   ],
   "source": [
    "# base kmeans model\n",
    "\n",
    "df_c     = df[con_feats]\n",
    "result_a = kmeans_model(df_c, \n",
    "                         3, \n",
    "                         random_state = 0, \n",
    "                         max_iter     = 300, \n",
    "                         verbose      = 0, \n",
    "                         df_output    = True)\n",
    "result_a[0].head(5)"
   ]
  },
  {
   "cell_type": "code",
   "execution_count": 41,
   "metadata": {},
   "outputs": [],
   "source": [
    "# base kmeans one hot model\n",
    "\n",
    "result_b = kmeans_onehot_mix(df, \n",
    "               cat_columns, \n",
    "               3,\n",
    "               random_state = 0,\n",
    "               max_iter     = 300, \n",
    "               verbose      = 0, \n",
    "               df_output    = False,\n",
    "               scale        = None)"
   ]
  },
  {
   "cell_type": "code",
   "execution_count": 47,
   "metadata": {},
   "outputs": [
    {
     "data": {
      "text/plain": [
       "array([ True,  True,  True,  True,  True,  True,  True,  True,  True,\n",
       "        True,  True,  True,  True,  True,  True,  True,  True,  True,\n",
       "        True,  True,  True,  True,  True,  True,  True,  True,  True,\n",
       "        True,  True,  True,  True,  True,  True,  True,  True,  True,\n",
       "        True,  True,  True,  True,  True,  True,  True,  True,  True,\n",
       "        True,  True,  True,  True,  True])"
      ]
     },
     "execution_count": 47,
     "metadata": {},
     "output_type": "execute_result"
    }
   ],
   "source": [
    "result_b['clusters']  == y"
   ]
  },
  {
   "cell_type": "code",
   "execution_count": 48,
   "metadata": {},
   "outputs": [
    {
     "name": "stdout",
     "output_type": "stream",
     "text": [
      "scaler : standard\n"
     ]
    },
    {
     "data": {
      "text/plain": [
       "array([ True,  True,  True,  True,  True,  True,  True,  True,  True,\n",
       "        True,  True,  True,  True,  True,  True,  True,  True,  True,\n",
       "        True,  True,  True,  True,  True,  True,  True,  True,  True,\n",
       "        True,  True,  True,  True,  True,  True,  True,  True,  True,\n",
       "        True,  True,  True,  True,  True,  True,  True,  True,  True,\n",
       "        True,  True,  True,  True,  True])"
      ]
     },
     "execution_count": 48,
     "metadata": {},
     "output_type": "execute_result"
    }
   ],
   "source": [
    "# base kmeans one hot model \n",
    "\n",
    "result_b1 = kmeans_onehot_mix(df, \n",
    "               cat_columns, \n",
    "               3,\n",
    "               random_state = 0,\n",
    "               max_iter     = 300, \n",
    "               verbose      = 0, \n",
    "               df_output    = False,\n",
    "               scale        = 'standard')\n",
    "\n",
    "result_b1['clusters']  == y"
   ]
  },
  {
   "cell_type": "code",
   "execution_count": 50,
   "metadata": {},
   "outputs": [
    {
     "name": "stdout",
     "output_type": "stream",
     "text": [
      "scaler : minmax\n"
     ]
    },
    {
     "data": {
      "text/plain": [
       "array([False, False, False, False,  True, False, False, False,  True,\n",
       "       False,  True, False,  True, False, False, False,  True,  True,\n",
       "        True, False,  True, False, False, False, False,  True, False,\n",
       "       False, False, False, False, False,  True, False,  True, False,\n",
       "       False,  True, False,  True, False,  True, False,  True,  True,\n",
       "       False, False, False, False,  True])"
      ]
     },
     "execution_count": 50,
     "metadata": {},
     "output_type": "execute_result"
    }
   ],
   "source": [
    "# base kmeans one hot model \n",
    "\n",
    "result_b2 = kmeans_onehot_mix(df, \n",
    "               cat_columns, \n",
    "               3,\n",
    "               random_state = 0,\n",
    "               max_iter     = 300, \n",
    "               verbose      = 0, \n",
    "               df_output    = False,\n",
    "               scale        = 'minmax')\n",
    "\n",
    "result_b2['clusters']  == y"
   ]
  },
  {
   "cell_type": "code",
   "execution_count": 51,
   "metadata": {},
   "outputs": [
    {
     "name": "stdout",
     "output_type": "stream",
     "text": [
      "scaler : power\n"
     ]
    },
    {
     "data": {
      "text/plain": [
       "array([ True,  True,  True,  True,  True,  True,  True,  True,  True,\n",
       "        True,  True,  True,  True,  True,  True,  True,  True,  True,\n",
       "        True,  True,  True,  True,  True,  True,  True,  True,  True,\n",
       "        True,  True,  True,  True,  True,  True,  True,  True,  True,\n",
       "        True,  True,  True,  True,  True,  True,  True,  True,  True,\n",
       "        True,  True,  True,  True,  True])"
      ]
     },
     "execution_count": 51,
     "metadata": {},
     "output_type": "execute_result"
    }
   ],
   "source": [
    "# base kmeans one hot model \n",
    "result_b3 = kmeans_onehot_mix(df, \n",
    "               cat_columns, \n",
    "               3,\n",
    "               random_state = 0,\n",
    "               max_iter     = 300, \n",
    "               verbose      = 0, \n",
    "               df_output    = False,\n",
    "               scale        = 'power')\n",
    "\n",
    "result_b3['clusters']  == y"
   ]
  },
  {
   "cell_type": "code",
   "execution_count": null,
   "metadata": {},
   "outputs": [],
   "source": []
  }
 ],
 "metadata": {
  "kernelspec": {
   "display_name": "Python 3",
   "language": "python",
   "name": "python3"
  },
  "language_info": {
   "codemirror_mode": {
    "name": "ipython",
    "version": 3
   },
   "file_extension": ".py",
   "mimetype": "text/x-python",
   "name": "python",
   "nbconvert_exporter": "python",
   "pygments_lexer": "ipython3",
   "version": "3.8.5"
  }
 },
 "nbformat": 4,
 "nbformat_minor": 4
}
