{
 "cells": [
  {
   "cell_type": "code",
   "execution_count": 1,
   "metadata": {},
   "outputs": [],
   "source": [
    "from mixclu import *"
   ]
  },
  {
   "cell_type": "code",
   "execution_count": 2,
   "metadata": {},
   "outputs": [],
   "source": [
    "df, cat_columns, y =  get_dummy_data(1000, \n",
    "                   10, \n",
    "                   5,\n",
    "                   5,\n",
    "                   missing_values = None, \n",
    "                   id_cols        = None)\n",
    "df                 = cobj(df, cat_columns)\n",
    "\n",
    "con_columns     = list(set(df.columns) - set(cat_columns))\n",
    "\n",
    "# no of pca dim for data\n",
    "# choose no of famd dim"
   ]
  },
  {
   "cell_type": "code",
   "execution_count": null,
   "metadata": {},
   "outputs": [],
   "source": [
    "# get one hot encoding\n",
    "df_one, cat_col  = one_hot_df(df, cat_columns, True)"
   ]
  },
  {
   "cell_type": "code",
   "execution_count": null,
   "metadata": {},
   "outputs": [],
   "source": [
    "#famd features\n",
    "df_famd          = famd_feats(df_one, cat_col, 5)"
   ]
  },
  {
   "cell_type": "code",
   "execution_count": null,
   "metadata": {},
   "outputs": [],
   "source": [
    "# get hopkins result\n",
    "hopkins(df_one)"
   ]
  },
  {
   "cell_type": "code",
   "execution_count": null,
   "metadata": {},
   "outputs": [],
   "source": [
    "# get pca features from dataframe\n",
    "\n",
    "\n",
    "df_pca, score   = pca_feats(df, con_columns, dim = 3)"
   ]
  },
  {
   "cell_type": "code",
   "execution_count": 16,
   "metadata": {},
   "outputs": [
    {
     "name": "stdout",
     "output_type": "stream",
     "text": [
      "[4, 2, 0, 1, 2, 4, 3, 1, 2, 4] [4 1 0 3 1 4 2 3 1 4]\n",
      "acc 0.4\n"
     ]
    },
    {
     "name": "stderr",
     "output_type": "stream",
     "text": [
      "/Users/monk/Desktop/MixClu/mixclu/models.py:27: SettingWithCopyWarning: \n",
      "A value is trying to be set on a copy of a slice from a DataFrame.\n",
      "Try using .loc[row_indexer,col_indexer] = value instead\n",
      "\n",
      "See the caveats in the documentation: https://pandas.pydata.org/pandas-docs/stable/user_guide/indexing.html#returning-a-view-versus-a-copy\n",
      "  df['clusters']   = list(clusters)\n"
     ]
    }
   ],
   "source": [
    "\"\"\"Model : 1\"\"\"\n",
    "\n",
    "# 1. Cluster based on continuous data only\n",
    "\n",
    "\n",
    "df_cos = df[con_columns]\n",
    "result = kmeans_model(df_cos, 5, df_output = True)\n",
    "\n",
    "print(list(result[0]['clusters'])[:10], y[:10])\n",
    "\n",
    "from sklearn import metrics\n",
    "metrics.rand_score(y, list(result[0]['clusters']))\n",
    "print(\"acc\", accuracy_score(y, list(result[0]['clusters'])))"
   ]
  },
  {
   "cell_type": "code",
   "execution_count": 17,
   "metadata": {},
   "outputs": [
    {
     "name": "stdout",
     "output_type": "stream",
     "text": [
      "[4 2 0 3 2 4 1 3 2 4] [4 1 0 3 1 4 2 3 1 4]\n",
      "acc 0.6\n"
     ]
    }
   ],
   "source": [
    "\"\"\"Model : 2\"\"\"\n",
    "\n",
    "# 1. Cluster based on mix data with one hot encoding\n",
    "\n",
    "one_hot_result1 = kmeans_onehot_mix(df, \n",
    "                                   cat_columns, \n",
    "                                   5, \n",
    "                                   scale = None)\n",
    "one_hot_result1[0][:10]\n",
    "\n",
    "print(one_hot_result1[0][:10], y[:10])\n",
    "\n",
    "from sklearn import metrics\n",
    "metrics.rand_score(y, list(one_hot_result1[0]))\n",
    "\n",
    "print(\"acc\", accuracy_score(y, list(one_hot_result1[0])))"
   ]
  },
  {
   "cell_type": "code",
   "execution_count": 18,
   "metadata": {},
   "outputs": [
    {
     "name": "stdout",
     "output_type": "stream",
     "text": [
      "scaler : minmax\n",
      "acc 0.234\n"
     ]
    }
   ],
   "source": [
    "# 1. Cluster based on mix data with one hot encoding ( minmax)\n",
    "\n",
    "\"\"\"Model : 3\"\"\"\n",
    "\n",
    "one_hot_result2 = kmeans_onehot_mix(df, \n",
    "                                   cat_columns, \n",
    "                                   5, \n",
    "                                   scale = 'minmax')\n",
    "\n",
    "\n",
    "print(\"acc\", accuracy_score(y, list(one_hot_result2[0])))"
   ]
  },
  {
   "cell_type": "code",
   "execution_count": 19,
   "metadata": {},
   "outputs": [
    {
     "name": "stdout",
     "output_type": "stream",
     "text": [
      "scaler : standard\n",
      "acc 0.0\n"
     ]
    }
   ],
   "source": [
    "# 1. Cluster based on mix data with one hot encoding ( standard)\n",
    "\n",
    "\"\"\"Model : 4\"\"\"\n",
    "\n",
    "\n",
    "one_hot_result3 = kmeans_onehot_mix(df, \n",
    "                                   cat_columns, \n",
    "                                   5, \n",
    "                                   scale = 'standard')\n",
    "\n",
    "\n",
    "print(\"acc\", accuracy_score(y, list(one_hot_result3[0])))"
   ]
  },
  {
   "cell_type": "code",
   "execution_count": 20,
   "metadata": {},
   "outputs": [
    {
     "name": "stdout",
     "output_type": "stream",
     "text": [
      "acc 0.2\n"
     ]
    }
   ],
   "source": [
    "# k prototype result\n",
    "\n",
    "\"\"\"Model : 5\"\"\"\n",
    "\n",
    "\n",
    "k_proc_result = k_prot_model(df, cat_columns, 5)\n",
    "print(\"acc\", accuracy_score(y, list(k_proc_result[0])))"
   ]
  },
  {
   "cell_type": "code",
   "execution_count": null,
   "metadata": {},
   "outputs": [],
   "source": [
    "# famd + kmeas"
   ]
  },
  {
   "cell_type": "code",
   "execution_count": 21,
   "metadata": {},
   "outputs": [],
   "source": [
    "def kmeans_famd(df, cat_col, \n",
    "                clusters, \n",
    "                famd_feat_no = 5, \n",
    "                df_output = True):\n",
    "    \n",
    "    \"\"\"model : 4\"\"\"\n",
    "    \n",
    "    df_famd          = famd_feats(df, cat_col, famd_feat_no)\n",
    "    result           = kmeans_model(df_famd, clusters, df_output = df_output)\n",
    "    return result\n",
    "\n",
    "# kmeans_famd(df)"
   ]
  },
  {
   "cell_type": "code",
   "execution_count": 22,
   "metadata": {},
   "outputs": [
    {
     "name": "stdout",
     "output_type": "stream",
     "text": [
      "explained_inertia :  0.99\n",
      "[4 3 0 1 3 4 2 1 3 4] [4 1 0 3 1 4 2 3 1 4]\n",
      "1.0 1.0\n",
      "1.0\n",
      "acc 0.6\n"
     ]
    }
   ],
   "source": [
    "from sklearn.metrics import accuracy_score\n",
    "y_tr = kmeans_famd(df, cat_columns, 5, 'auto', False)['clusters']\n",
    "\n",
    "print(y_tr[:10], y[:10])\n",
    "\n",
    "from sklearn import metrics\n",
    "print(metrics.rand_score(y, y_tr), metrics.adjusted_rand_score(y, y_tr))\n",
    "print(metrics.adjusted_mutual_info_score(y, y_tr)  )\n",
    "print(\"acc\", accuracy_score(y, y_tr))"
   ]
  },
  {
   "cell_type": "code",
   "execution_count": null,
   "metadata": {},
   "outputs": [],
   "source": []
  },
  {
   "cell_type": "code",
   "execution_count": null,
   "metadata": {},
   "outputs": [],
   "source": []
  },
  {
   "cell_type": "code",
   "execution_count": null,
   "metadata": {},
   "outputs": [],
   "source": []
  }
 ],
 "metadata": {
  "kernelspec": {
   "display_name": "Python 3",
   "language": "python",
   "name": "python3"
  },
  "language_info": {
   "codemirror_mode": {
    "name": "ipython",
    "version": 3
   },
   "file_extension": ".py",
   "mimetype": "text/x-python",
   "name": "python",
   "nbconvert_exporter": "python",
   "pygments_lexer": "ipython3",
   "version": "3.8.5"
  }
 },
 "nbformat": 4,
 "nbformat_minor": 4
}
