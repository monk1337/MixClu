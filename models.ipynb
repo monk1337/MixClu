{
 "cells": [
  {
   "cell_type": "code",
   "execution_count": 1,
   "metadata": {},
   "outputs": [],
   "source": [
    "from mixclu import *\n",
    "\n",
    "from IPython.display import display\n",
    "pd.options.display.max_columns = None"
   ]
  },
  {
   "cell_type": "code",
   "execution_count": 2,
   "metadata": {},
   "outputs": [],
   "source": [
    "df     = pd.read_csv('./datasets/church.txt')\n",
    "labels = df.pop('labels')"
   ]
  },
  {
   "cell_type": "code",
   "execution_count": 3,
   "metadata": {},
   "outputs": [
    {
     "data": {
      "text/html": [
       "<div>\n",
       "<style scoped>\n",
       "    .dataframe tbody tr th:only-of-type {\n",
       "        vertical-align: middle;\n",
       "    }\n",
       "\n",
       "    .dataframe tbody tr th {\n",
       "        vertical-align: top;\n",
       "    }\n",
       "\n",
       "    .dataframe thead th {\n",
       "        text-align: right;\n",
       "    }\n",
       "</style>\n",
       "<table border=\"1\" class=\"dataframe\">\n",
       "  <thead>\n",
       "    <tr style=\"text-align: right;\">\n",
       "      <th></th>\n",
       "      <th>Age</th>\n",
       "      <th>Overall</th>\n",
       "      <th>Potential</th>\n",
       "      <th>Value</th>\n",
       "      <th>Wage</th>\n",
       "      <th>Special</th>\n",
       "      <th>Preferred Foot</th>\n",
       "      <th>International Reputation</th>\n",
       "      <th>Weak Foot</th>\n",
       "      <th>Skill Moves</th>\n",
       "      <th>Height</th>\n",
       "      <th>Weight</th>\n",
       "      <th>Crossing</th>\n",
       "      <th>Finishing</th>\n",
       "      <th>HeadingAccuracy</th>\n",
       "      <th>ShortPassing</th>\n",
       "      <th>Volleys</th>\n",
       "      <th>Dribbling</th>\n",
       "      <th>Curve</th>\n",
       "      <th>FKAccuracy</th>\n",
       "      <th>LongPassing</th>\n",
       "      <th>BallControl</th>\n",
       "      <th>Acceleration</th>\n",
       "      <th>SprintSpeed</th>\n",
       "      <th>Agility</th>\n",
       "      <th>Reactions</th>\n",
       "      <th>Balance</th>\n",
       "      <th>ShotPower</th>\n",
       "      <th>Jumping</th>\n",
       "      <th>Stamina</th>\n",
       "      <th>Strength</th>\n",
       "      <th>LongShots</th>\n",
       "      <th>Aggression</th>\n",
       "      <th>Interceptions</th>\n",
       "      <th>Positioning</th>\n",
       "      <th>Vision</th>\n",
       "      <th>Penalties</th>\n",
       "      <th>Composure</th>\n",
       "      <th>Marking</th>\n",
       "      <th>StandingTackle</th>\n",
       "      <th>SlidingTackle</th>\n",
       "      <th>GKDiving</th>\n",
       "      <th>GKHandling</th>\n",
       "      <th>GKKicking</th>\n",
       "      <th>GKPositioning</th>\n",
       "      <th>GKReflexes</th>\n",
       "      <th>Release Clause</th>\n",
       "      <th>Attk_wrk_rate</th>\n",
       "      <th>defnd_wrk_rate</th>\n",
       "    </tr>\n",
       "  </thead>\n",
       "  <tbody>\n",
       "    <tr>\n",
       "      <th>0</th>\n",
       "      <td>32</td>\n",
       "      <td>70</td>\n",
       "      <td>70</td>\n",
       "      <td>1400000.0</td>\n",
       "      <td>14000.0</td>\n",
       "      <td>1636</td>\n",
       "      <td>Left</td>\n",
       "      <td>1.0</td>\n",
       "      <td>4.0</td>\n",
       "      <td>3.0</td>\n",
       "      <td>177.8</td>\n",
       "      <td>152</td>\n",
       "      <td>56.0</td>\n",
       "      <td>67.0</td>\n",
       "      <td>48.0</td>\n",
       "      <td>75.0</td>\n",
       "      <td>72.0</td>\n",
       "      <td>72.0</td>\n",
       "      <td>45.0</td>\n",
       "      <td>49.0</td>\n",
       "      <td>63.0</td>\n",
       "      <td>70.0</td>\n",
       "      <td>68.0</td>\n",
       "      <td>59.0</td>\n",
       "      <td>72.0</td>\n",
       "      <td>71.0</td>\n",
       "      <td>65.0</td>\n",
       "      <td>62.0</td>\n",
       "      <td>33.0</td>\n",
       "      <td>63.0</td>\n",
       "      <td>58.0</td>\n",
       "      <td>53.0</td>\n",
       "      <td>59.0</td>\n",
       "      <td>30.0</td>\n",
       "      <td>68.0</td>\n",
       "      <td>71.0</td>\n",
       "      <td>54.0</td>\n",
       "      <td>55.0</td>\n",
       "      <td>31.0</td>\n",
       "      <td>23.0</td>\n",
       "      <td>27.0</td>\n",
       "      <td>9.0</td>\n",
       "      <td>13.0</td>\n",
       "      <td>10.0</td>\n",
       "      <td>7.0</td>\n",
       "      <td>13.0</td>\n",
       "      <td>2600000.0</td>\n",
       "      <td>Medium</td>\n",
       "      <td>Low</td>\n",
       "    </tr>\n",
       "    <tr>\n",
       "      <th>1</th>\n",
       "      <td>33</td>\n",
       "      <td>64</td>\n",
       "      <td>64</td>\n",
       "      <td>170000.0</td>\n",
       "      <td>1000.0</td>\n",
       "      <td>1598</td>\n",
       "      <td>Left</td>\n",
       "      <td>1.0</td>\n",
       "      <td>2.0</td>\n",
       "      <td>2.0</td>\n",
       "      <td>167.6</td>\n",
       "      <td>146</td>\n",
       "      <td>64.0</td>\n",
       "      <td>21.0</td>\n",
       "      <td>61.0</td>\n",
       "      <td>62.0</td>\n",
       "      <td>25.0</td>\n",
       "      <td>49.0</td>\n",
       "      <td>32.0</td>\n",
       "      <td>28.0</td>\n",
       "      <td>60.0</td>\n",
       "      <td>59.0</td>\n",
       "      <td>71.0</td>\n",
       "      <td>73.0</td>\n",
       "      <td>76.0</td>\n",
       "      <td>53.0</td>\n",
       "      <td>74.0</td>\n",
       "      <td>63.0</td>\n",
       "      <td>57.0</td>\n",
       "      <td>71.0</td>\n",
       "      <td>41.0</td>\n",
       "      <td>47.0</td>\n",
       "      <td>71.0</td>\n",
       "      <td>59.0</td>\n",
       "      <td>48.0</td>\n",
       "      <td>43.0</td>\n",
       "      <td>46.0</td>\n",
       "      <td>55.0</td>\n",
       "      <td>62.0</td>\n",
       "      <td>61.0</td>\n",
       "      <td>61.0</td>\n",
       "      <td>11.0</td>\n",
       "      <td>10.0</td>\n",
       "      <td>15.0</td>\n",
       "      <td>15.0</td>\n",
       "      <td>9.0</td>\n",
       "      <td>230000.0</td>\n",
       "      <td>Medium</td>\n",
       "      <td>High</td>\n",
       "    </tr>\n",
       "    <tr>\n",
       "      <th>2</th>\n",
       "      <td>28</td>\n",
       "      <td>66</td>\n",
       "      <td>66</td>\n",
       "      <td>525000.0</td>\n",
       "      <td>6000.0</td>\n",
       "      <td>1749</td>\n",
       "      <td>Right</td>\n",
       "      <td>1.0</td>\n",
       "      <td>3.0</td>\n",
       "      <td>3.0</td>\n",
       "      <td>175.3</td>\n",
       "      <td>150</td>\n",
       "      <td>64.0</td>\n",
       "      <td>37.0</td>\n",
       "      <td>45.0</td>\n",
       "      <td>63.0</td>\n",
       "      <td>50.0</td>\n",
       "      <td>67.0</td>\n",
       "      <td>53.0</td>\n",
       "      <td>35.0</td>\n",
       "      <td>63.0</td>\n",
       "      <td>66.0</td>\n",
       "      <td>73.0</td>\n",
       "      <td>74.0</td>\n",
       "      <td>73.0</td>\n",
       "      <td>65.0</td>\n",
       "      <td>63.0</td>\n",
       "      <td>55.0</td>\n",
       "      <td>43.0</td>\n",
       "      <td>90.0</td>\n",
       "      <td>76.0</td>\n",
       "      <td>58.0</td>\n",
       "      <td>73.0</td>\n",
       "      <td>62.0</td>\n",
       "      <td>60.0</td>\n",
       "      <td>59.0</td>\n",
       "      <td>40.0</td>\n",
       "      <td>65.0</td>\n",
       "      <td>57.0</td>\n",
       "      <td>65.0</td>\n",
       "      <td>61.0</td>\n",
       "      <td>16.0</td>\n",
       "      <td>14.0</td>\n",
       "      <td>8.0</td>\n",
       "      <td>15.0</td>\n",
       "      <td>6.0</td>\n",
       "      <td>866000.0</td>\n",
       "      <td>High</td>\n",
       "      <td>High</td>\n",
       "    </tr>\n",
       "    <tr>\n",
       "      <th>3</th>\n",
       "      <td>27</td>\n",
       "      <td>69</td>\n",
       "      <td>70</td>\n",
       "      <td>1200000.0</td>\n",
       "      <td>12000.0</td>\n",
       "      <td>1626</td>\n",
       "      <td>Right</td>\n",
       "      <td>1.0</td>\n",
       "      <td>2.0</td>\n",
       "      <td>3.0</td>\n",
       "      <td>185.4</td>\n",
       "      <td>176</td>\n",
       "      <td>39.0</td>\n",
       "      <td>68.0</td>\n",
       "      <td>65.0</td>\n",
       "      <td>63.0</td>\n",
       "      <td>51.0</td>\n",
       "      <td>67.0</td>\n",
       "      <td>54.0</td>\n",
       "      <td>31.0</td>\n",
       "      <td>41.0</td>\n",
       "      <td>72.0</td>\n",
       "      <td>66.0</td>\n",
       "      <td>72.0</td>\n",
       "      <td>60.0</td>\n",
       "      <td>66.0</td>\n",
       "      <td>55.0</td>\n",
       "      <td>73.0</td>\n",
       "      <td>65.0</td>\n",
       "      <td>53.0</td>\n",
       "      <td>77.0</td>\n",
       "      <td>64.0</td>\n",
       "      <td>58.0</td>\n",
       "      <td>39.0</td>\n",
       "      <td>70.0</td>\n",
       "      <td>46.0</td>\n",
       "      <td>63.0</td>\n",
       "      <td>63.0</td>\n",
       "      <td>36.0</td>\n",
       "      <td>37.0</td>\n",
       "      <td>24.0</td>\n",
       "      <td>9.0</td>\n",
       "      <td>15.0</td>\n",
       "      <td>9.0</td>\n",
       "      <td>11.0</td>\n",
       "      <td>7.0</td>\n",
       "      <td>2700000.0</td>\n",
       "      <td>Medium</td>\n",
       "      <td>Low</td>\n",
       "    </tr>\n",
       "    <tr>\n",
       "      <th>4</th>\n",
       "      <td>23</td>\n",
       "      <td>63</td>\n",
       "      <td>72</td>\n",
       "      <td>500000.0</td>\n",
       "      <td>2000.0</td>\n",
       "      <td>1453</td>\n",
       "      <td>Left</td>\n",
       "      <td>1.0</td>\n",
       "      <td>3.0</td>\n",
       "      <td>2.0</td>\n",
       "      <td>190.5</td>\n",
       "      <td>185</td>\n",
       "      <td>54.0</td>\n",
       "      <td>26.0</td>\n",
       "      <td>66.0</td>\n",
       "      <td>58.0</td>\n",
       "      <td>30.0</td>\n",
       "      <td>39.0</td>\n",
       "      <td>34.0</td>\n",
       "      <td>27.0</td>\n",
       "      <td>41.0</td>\n",
       "      <td>59.0</td>\n",
       "      <td>57.0</td>\n",
       "      <td>63.0</td>\n",
       "      <td>40.0</td>\n",
       "      <td>59.0</td>\n",
       "      <td>45.0</td>\n",
       "      <td>53.0</td>\n",
       "      <td>64.0</td>\n",
       "      <td>58.0</td>\n",
       "      <td>74.0</td>\n",
       "      <td>32.0</td>\n",
       "      <td>64.0</td>\n",
       "      <td>56.0</td>\n",
       "      <td>31.0</td>\n",
       "      <td>38.0</td>\n",
       "      <td>40.0</td>\n",
       "      <td>43.0</td>\n",
       "      <td>63.0</td>\n",
       "      <td>61.0</td>\n",
       "      <td>58.0</td>\n",
       "      <td>13.0</td>\n",
       "      <td>14.0</td>\n",
       "      <td>7.0</td>\n",
       "      <td>14.0</td>\n",
       "      <td>15.0</td>\n",
       "      <td>875000.0</td>\n",
       "      <td>Medium</td>\n",
       "      <td>Medium</td>\n",
       "    </tr>\n",
       "  </tbody>\n",
       "</table>\n",
       "</div>"
      ],
      "text/plain": [
       "   Age  Overall  Potential      Value     Wage  Special Preferred Foot  \\\n",
       "0   32       70         70  1400000.0  14000.0     1636           Left   \n",
       "1   33       64         64   170000.0   1000.0     1598           Left   \n",
       "2   28       66         66   525000.0   6000.0     1749          Right   \n",
       "3   27       69         70  1200000.0  12000.0     1626          Right   \n",
       "4   23       63         72   500000.0   2000.0     1453           Left   \n",
       "\n",
       "   International Reputation  Weak Foot  Skill Moves  Height  Weight  Crossing  \\\n",
       "0                       1.0        4.0          3.0   177.8     152      56.0   \n",
       "1                       1.0        2.0          2.0   167.6     146      64.0   \n",
       "2                       1.0        3.0          3.0   175.3     150      64.0   \n",
       "3                       1.0        2.0          3.0   185.4     176      39.0   \n",
       "4                       1.0        3.0          2.0   190.5     185      54.0   \n",
       "\n",
       "   Finishing  HeadingAccuracy  ShortPassing  Volleys  Dribbling  Curve  \\\n",
       "0       67.0             48.0          75.0     72.0       72.0   45.0   \n",
       "1       21.0             61.0          62.0     25.0       49.0   32.0   \n",
       "2       37.0             45.0          63.0     50.0       67.0   53.0   \n",
       "3       68.0             65.0          63.0     51.0       67.0   54.0   \n",
       "4       26.0             66.0          58.0     30.0       39.0   34.0   \n",
       "\n",
       "   FKAccuracy  LongPassing  BallControl  Acceleration  SprintSpeed  Agility  \\\n",
       "0        49.0         63.0         70.0          68.0         59.0     72.0   \n",
       "1        28.0         60.0         59.0          71.0         73.0     76.0   \n",
       "2        35.0         63.0         66.0          73.0         74.0     73.0   \n",
       "3        31.0         41.0         72.0          66.0         72.0     60.0   \n",
       "4        27.0         41.0         59.0          57.0         63.0     40.0   \n",
       "\n",
       "   Reactions  Balance  ShotPower  Jumping  Stamina  Strength  LongShots  \\\n",
       "0       71.0     65.0       62.0     33.0     63.0      58.0       53.0   \n",
       "1       53.0     74.0       63.0     57.0     71.0      41.0       47.0   \n",
       "2       65.0     63.0       55.0     43.0     90.0      76.0       58.0   \n",
       "3       66.0     55.0       73.0     65.0     53.0      77.0       64.0   \n",
       "4       59.0     45.0       53.0     64.0     58.0      74.0       32.0   \n",
       "\n",
       "   Aggression  Interceptions  Positioning  Vision  Penalties  Composure  \\\n",
       "0        59.0           30.0         68.0    71.0       54.0       55.0   \n",
       "1        71.0           59.0         48.0    43.0       46.0       55.0   \n",
       "2        73.0           62.0         60.0    59.0       40.0       65.0   \n",
       "3        58.0           39.0         70.0    46.0       63.0       63.0   \n",
       "4        64.0           56.0         31.0    38.0       40.0       43.0   \n",
       "\n",
       "   Marking  StandingTackle  SlidingTackle  GKDiving  GKHandling  GKKicking  \\\n",
       "0     31.0            23.0           27.0       9.0        13.0       10.0   \n",
       "1     62.0            61.0           61.0      11.0        10.0       15.0   \n",
       "2     57.0            65.0           61.0      16.0        14.0        8.0   \n",
       "3     36.0            37.0           24.0       9.0        15.0        9.0   \n",
       "4     63.0            61.0           58.0      13.0        14.0        7.0   \n",
       "\n",
       "   GKPositioning  GKReflexes  Release Clause Attk_wrk_rate defnd_wrk_rate  \n",
       "0            7.0        13.0       2600000.0        Medium            Low  \n",
       "1           15.0         9.0        230000.0        Medium           High  \n",
       "2           15.0         6.0        866000.0          High           High  \n",
       "3           11.0         7.0       2700000.0        Medium            Low  \n",
       "4           14.0        15.0        875000.0        Medium         Medium  "
      ]
     },
     "execution_count": 3,
     "metadata": {},
     "output_type": "execute_result"
    }
   ],
   "source": [
    "df.head(5)"
   ]
  },
  {
   "cell_type": "code",
   "execution_count": 4,
   "metadata": {},
   "outputs": [],
   "source": [
    "id_col, cat_col, con_col = get_types(df)\n",
    "con_col.extend(id_col)"
   ]
  },
  {
   "cell_type": "code",
   "execution_count": null,
   "metadata": {},
   "outputs": [],
   "source": []
  },
  {
   "cell_type": "code",
   "execution_count": 5,
   "metadata": {},
   "outputs": [],
   "source": [
    "scores      = pd.DataFrame()\n",
    "predictions = pd.DataFrame()\n",
    "predictions['Label'] = labels\n",
    "data        = df"
   ]
  },
  {
   "cell_type": "code",
   "execution_count": 9,
   "metadata": {},
   "outputs": [],
   "source": [
    "def calculate_gower_distance33(df):\n",
    "  \n",
    "  '''\n",
    "  Takes a dataframe as an input and returns the gower distance\n",
    "  matrix.\n",
    "  \n",
    "  '''\n",
    "\n",
    "  variable_distances = []\n",
    "  \n",
    "  for col in range(df.shape[1]):\n",
    "    \n",
    "    feature = df.iloc[:,[col]]\n",
    "    if feature.dtypes.values == np.object:\n",
    "      \n",
    "      feature_dist = DistanceMetric.get_metric('dice').pairwise(pd.get_dummies(feature, drop_first=True))\n",
    "        \n",
    "    else:\n",
    "      \n",
    "      feature_dist = DistanceMetric.get_metric('manhattan').pairwise(feature) / max(np.ptp(feature.values),1)\n",
    "\n",
    "\n",
    "      variable_distances.append(feature_dist)\n",
    "      \n",
    "\n",
    "  return np.array(variable_distances).mean(0)"
   ]
  },
  {
   "cell_type": "code",
   "execution_count": 11,
   "metadata": {},
   "outputs": [
    {
     "name": "stderr",
     "output_type": "stream",
     "text": [
      "<ipython-input-9-0a63948f2ec6>:14: DeprecationWarning: `np.object` is a deprecated alias for the builtin `object`. To silence this warning, use `object` by itself. Doing this will not modify any behavior and is safe. \n",
      "Deprecated in NumPy 1.20; for more details and guidance: https://numpy.org/devdocs/release/1.20.0-notes.html#deprecations\n",
      "  if feature.dtypes.values == np.object:\n",
      "/Library/Frameworks/Python.framework/Versions/3.8/lib/python3.8/site-packages/sklearn/neighbors/_distance_metric.py:10: FutureWarning: sklearn.neighbors.DistanceMetric has been moved to sklearn.metrics.DistanceMetric in 1.0. This import path will be removed in 1.3\n",
      "  warnings.warn(\n"
     ]
    }
   ],
   "source": [
    "\n",
    "def kmedoids_model(df):\n",
    "    \n",
    "    \n",
    "    \n",
    "    gower_data              = data.copy()\n",
    "    \n",
    "gower_distance_matrix   = calculate_gower_distance(gower_data)\n",
    "umap_embeddings         = umap.UMAP(random_state=42, n_components=2).fit_transform(gower_distance_matrix)\n",
    "\n",
    "gower_data['x']         = umap_embeddings[:,0]\n",
    "gower_data['y']         = umap_embeddings[:,1]\n",
    "gower_data['target']    = [str(x) for x in labels]"
   ]
  },
  {
   "cell_type": "code",
   "execution_count": 12,
   "metadata": {},
   "outputs": [
    {
     "data": {
      "text/html": [
       "<div>\n",
       "<style scoped>\n",
       "    .dataframe tbody tr th:only-of-type {\n",
       "        vertical-align: middle;\n",
       "    }\n",
       "\n",
       "    .dataframe tbody tr th {\n",
       "        vertical-align: top;\n",
       "    }\n",
       "\n",
       "    .dataframe thead th {\n",
       "        text-align: right;\n",
       "    }\n",
       "</style>\n",
       "<table border=\"1\" class=\"dataframe\">\n",
       "  <thead>\n",
       "    <tr style=\"text-align: right;\">\n",
       "      <th></th>\n",
       "      <th>Algorithm</th>\n",
       "      <th>Silhouette ↑</th>\n",
       "      <th>Calinski_Harabasz ↑</th>\n",
       "      <th>Davis Bouldin ↓</th>\n",
       "      <th>Adjusted_Mutual_Info ↑</th>\n",
       "      <th>Adjusted_Rand_Score ↑</th>\n",
       "    </tr>\n",
       "  </thead>\n",
       "  <tbody>\n",
       "    <tr>\n",
       "      <th>0</th>\n",
       "      <td>gower_matrix_kmediods_pam</td>\n",
       "      <td>0.268491</td>\n",
       "      <td>3006.178341</td>\n",
       "      <td>1.418860</td>\n",
       "      <td>0.50215</td>\n",
       "      <td>0.331948</td>\n",
       "    </tr>\n",
       "    <tr>\n",
       "      <th>1</th>\n",
       "      <td>gower_matrix_kmediods_pam</td>\n",
       "      <td>0.268491</td>\n",
       "      <td>3006.178341</td>\n",
       "      <td>1.418860</td>\n",
       "      <td>0.50215</td>\n",
       "      <td>0.331948</td>\n",
       "    </tr>\n",
       "    <tr>\n",
       "      <th>2</th>\n",
       "      <td>gower_matrix_kmediods_pam</td>\n",
       "      <td>0.293842</td>\n",
       "      <td>4266.339166</td>\n",
       "      <td>1.117851</td>\n",
       "      <td>0.40534</td>\n",
       "      <td>0.263165</td>\n",
       "    </tr>\n",
       "  </tbody>\n",
       "</table>\n",
       "</div>"
      ],
      "text/plain": [
       "                   Algorithm  Silhouette ↑   Calinski_Harabasz ↑   \\\n",
       "0  gower_matrix_kmediods_pam       0.268491           3006.178341   \n",
       "1  gower_matrix_kmediods_pam       0.268491           3006.178341   \n",
       "2  gower_matrix_kmediods_pam       0.293842           4266.339166   \n",
       "\n",
       "   Davis Bouldin ↓   Adjusted_Mutual_Info ↑   Adjusted_Rand_Score ↑   \n",
       "0          1.418860                  0.50215                0.331948  \n",
       "1          1.418860                  0.50215                0.331948  \n",
       "2          1.117851                  0.40534                0.263165  "
      ]
     },
     "execution_count": 12,
     "metadata": {},
     "output_type": "execute_result"
    }
   ],
   "source": [
    "num_clusters = 4\n",
    "random_state = 32\n",
    "\n",
    "\n",
    "\n",
    "gower_data[\"preds\"] = gower_clusterer.labels_\n",
    "gower_data[\"preds\"] = gower_data[\"preds\"].apply(str)\n",
    "\n",
    "predictions['gower_preds'] = gower_clusterer.labels_\n",
    "\n",
    "scores = evaluate_clusters(scores,  gower_data[\"preds\"].values,\n",
    "                           gower_data['target'].values, \n",
    "                           name='gower_matrix_kmediods_pam', \n",
    "                           X=gower_distance_matrix)\n",
    "\n",
    "scores"
   ]
  },
  {
   "cell_type": "code",
   "execution_count": null,
   "metadata": {},
   "outputs": [],
   "source": [
    "# design base models first"
   ]
  },
  {
   "cell_type": "code",
   "execution_count": null,
   "metadata": {},
   "outputs": [],
   "source": [
    "# preprocessing\n",
    "id_col, cat_col, con_col = get_types(df)\n",
    "id_col, cat_col, con_col"
   ]
  },
  {
   "cell_type": "code",
   "execution_count": null,
   "metadata": {},
   "outputs": [],
   "source": [
    "df.info()"
   ]
  },
  {
   "cell_type": "code",
   "execution_count": null,
   "metadata": {},
   "outputs": [],
   "source": [
    "cat_col = ['State', \"Int'l Plan\", 'VMail Plan', 'Churn?']\n",
    "con_col = ['Account Length', 'VMail Message', 'Day Mins', 'Day Calls', \n",
    "           'Day Charge', 'Eve Mins', 'Eve Calls', 'Eve Charge', 'Night Mins', \n",
    "           'Night Calls', 'Night Charge', 'Intl Mins', 'Intl Calls', \n",
    "           'Intl Charge', 'CustServ Calls']\n",
    "\n",
    "df_pre = autopreprocessing(df, \n",
    "                  cat_col, \n",
    "                  id_columns      = None,\n",
    "                  con_colmns      = con_col,\n",
    "                  y               = None, \n",
    "                  allowed_missing = 20.0, \n",
    "                  corr_thr        = None)"
   ]
  },
  {
   "cell_type": "code",
   "execution_count": null,
   "metadata": {},
   "outputs": [],
   "source": [
    "df          = df_pre[0]\n",
    "con_columns = con_col\n",
    "cat_columns = cat_col"
   ]
  },
  {
   "cell_type": "code",
   "execution_count": null,
   "metadata": {},
   "outputs": [],
   "source": [
    "\"\"\"Model : 1\"\"\"\n",
    "\n",
    "# 1. Cluster based on continuous data only\n",
    "\n",
    "\n",
    "df_cos = df[con_columns]\n",
    "result = kmeans_model(df_cos, 5, df_output = False)\n",
    "result\n",
    "# print(list(result['clusters'])[:10], y[:10])"
   ]
  },
  {
   "cell_type": "code",
   "execution_count": null,
   "metadata": {},
   "outputs": [],
   "source": [
    "\"\"\"Model : 2\"\"\"\n",
    "\n",
    "# 1. Cluster based on mix data with one hot encoding\n",
    "\n",
    "one_hot_result1 = kmeans_onehot_mix(df, \n",
    "                                   cat_columns, \n",
    "                                   5, \n",
    "                                   scale = None, \n",
    "                                   df_output    = False)\n",
    "print(list(one_hot_result1['clusters'])[:10], y[:10])"
   ]
  },
  {
   "cell_type": "code",
   "execution_count": null,
   "metadata": {},
   "outputs": [],
   "source": [
    "# k prototype result\n",
    "\n",
    "\"\"\"Model : 3\"\"\"\n",
    "\n",
    "k_proc_result = k_prot_model(df, cat_columns, 5)\n",
    "print(list(k_proc_result['clusters'])[:10], y[:10])"
   ]
  },
  {
   "cell_type": "code",
   "execution_count": null,
   "metadata": {},
   "outputs": [],
   "source": [
    "\"\"\" Model : 4\"\"\"\n",
    "\n",
    "y_tr = kmeans_famd(df, cat_columns, 5, 'auto')\n",
    "print(list(y_tr['clusters'])[:10], y[:10])"
   ]
  },
  {
   "cell_type": "code",
   "execution_count": null,
   "metadata": {},
   "outputs": [],
   "source": [
    "# why not just calculate mean and sd for each grouping, zscore by group, \n",
    "# and manually inspect points w abs(z score) > threshold (eg, 2, 3, etc).\n",
    "\n",
    "# You could also calculate skew by group ((mean - median)/sd). \n",
    "# If there are outliers, you'd have large skew values."
   ]
  },
  {
   "cell_type": "code",
   "execution_count": null,
   "metadata": {},
   "outputs": [],
   "source": [
    "df = df_pre[0].head(5)"
   ]
  },
  {
   "cell_type": "code",
   "execution_count": null,
   "metadata": {},
   "outputs": [],
   "source": [
    "def add_freq(df, column_name):\n",
    "    df[f'{column_name}_freq'] = df[column_name].map(df[column_name].value_counts())\n",
    "    return df"
   ]
  },
  {
   "cell_type": "code",
   "execution_count": null,
   "metadata": {},
   "outputs": [],
   "source": [
    "add_freq(df, 'Churn?')"
   ]
  },
  {
   "cell_type": "code",
   "execution_count": null,
   "metadata": {},
   "outputs": [],
   "source": [
    "from kmodes.util.dissim import ng_dissim\n",
    "from kmodes.kmodes import KModes\n",
    "\n",
    "def kmodels_model(df, init='Huang', \n",
    "                  n_init=1, \n",
    "                  verbose=2, \n",
    "                  cat_dissim = None, \n",
    "                  df_output = True):\n",
    "    \n",
    "    if cat_dissim:\n",
    "        model = KModes(n_clusters=K,\n",
    "                       init='Huang',\n",
    "                       n_init=1,\n",
    "                       cat_dissim=ng_dissim,\n",
    "                       verbose=2)\n",
    "    else:\n",
    "        model = KModes(n_clusters=K,\n",
    "                       init='Huang',\n",
    "                       n_init=1,\n",
    "                       verbose=2)\n",
    "        \n",
    "    clusters = model.fit_predict(df)\n",
    "    \n",
    "    if df_output:\n",
    "        df['clusters']   = list(clusters)\n",
    "        return df, model\n",
    "    \n",
    "    return {'clusters': clusters, \n",
    "            'model'   : model}\n",
    "    "
   ]
  },
  {
   "cell_type": "code",
   "execution_count": null,
   "metadata": {},
   "outputs": [],
   "source": []
  },
  {
   "cell_type": "code",
   "execution_count": null,
   "metadata": {},
   "outputs": [],
   "source": []
  },
  {
   "cell_type": "code",
   "execution_count": null,
   "metadata": {},
   "outputs": [],
   "source": [
    "pd.DataFrame(df.mean()).T"
   ]
  },
  {
   "cell_type": "code",
   "execution_count": null,
   "metadata": {},
   "outputs": [],
   "source": [
    "m = pd.DataFrame(df.mean()).T"
   ]
  },
  {
   "cell_type": "code",
   "execution_count": null,
   "metadata": {},
   "outputs": [],
   "source": [
    "m = pd.DataFrame(df.mean()).T\n",
    "n = pd.DataFrame(df.std()).T"
   ]
  },
  {
   "cell_type": "code",
   "execution_count": null,
   "metadata": {},
   "outputs": [],
   "source": [
    "new_cdf = pd.concat([m]*3, ignore_index=True)\n",
    "new_cdf"
   ]
  },
  {
   "cell_type": "code",
   "execution_count": null,
   "metadata": {},
   "outputs": [],
   "source": [
    "m"
   ]
  },
  {
   "cell_type": "code",
   "execution_count": null,
   "metadata": {},
   "outputs": [],
   "source": [
    "n"
   ]
  },
  {
   "cell_type": "code",
   "execution_count": null,
   "metadata": {},
   "outputs": [],
   "source": [
    "m/n"
   ]
  },
  {
   "cell_type": "code",
   "execution_count": null,
   "metadata": {},
   "outputs": [],
   "source": [
    "df = pd.DataFrame({'Sex': ['M','M','M','F','F','F','F'], 'Age': [33,42,19,64,12,30,32], 'Height': ['163','167','184','164','162','158','160'],})\n"
   ]
  },
  {
   "cell_type": "code",
   "execution_count": null,
   "metadata": {},
   "outputs": [],
   "source": [
    "df"
   ]
  },
  {
   "cell_type": "code",
   "execution_count": null,
   "metadata": {},
   "outputs": [],
   "source": [
    "df['Height'] = df['Height'].astype(float)\n",
    "df"
   ]
  },
  {
   "cell_type": "code",
   "execution_count": null,
   "metadata": {},
   "outputs": [],
   "source": [
    "(33 + 42 + 19 )/3"
   ]
  },
  {
   "cell_type": "code",
   "execution_count": null,
   "metadata": {},
   "outputs": [],
   "source": [
    "df[['Sex', 'Age', 'Height']].groupby('Sex').mean()\n",
    "\n"
   ]
  },
  {
   "cell_type": "code",
   "execution_count": null,
   "metadata": {},
   "outputs": [],
   "source": []
  },
  {
   "cell_type": "code",
   "execution_count": null,
   "metadata": {},
   "outputs": [],
   "source": [
    "z = df[['Sex', 'Age', 'Height']].groupby('Sex').transform(\n",
    "    lambda group: (group.mean()))\n",
    "z"
   ]
  },
  {
   "cell_type": "code",
   "execution_count": null,
   "metadata": {},
   "outputs": [],
   "source": [
    ".transform(\n",
    "    lambda group: (group - group.mean()).div(group.std()))\n",
    "z"
   ]
  },
  {
   "cell_type": "code",
   "execution_count": null,
   "metadata": {},
   "outputs": [],
   "source": [
    "outliers = z.abs() > stds"
   ]
  },
  {
   "cell_type": "code",
   "execution_count": null,
   "metadata": {},
   "outputs": [],
   "source": []
  },
  {
   "cell_type": "code",
   "execution_count": null,
   "metadata": {},
   "outputs": [],
   "source": []
  },
  {
   "cell_type": "code",
   "execution_count": null,
   "metadata": {},
   "outputs": [],
   "source": []
  },
  {
   "cell_type": "code",
   "execution_count": null,
   "metadata": {},
   "outputs": [],
   "source": [
    "df, cat_columns, con_feats, y = get_dummy_data(50, \n",
    "                                               8, \n",
    "                                               6,\n",
    "                                               centers        = 3,\n",
    "                                               missing_values = None, \n",
    "                                               id_cols        = None)\n",
    "df.head(10)\n"
   ]
  },
  {
   "cell_type": "code",
   "execution_count": null,
   "metadata": {},
   "outputs": [],
   "source": [
    "df"
   ]
  },
  {
   "cell_type": "code",
   "execution_count": null,
   "metadata": {},
   "outputs": [],
   "source": [
    "['X0', 'X1', 'X2', 'X3', 'X4', 'X5']"
   ]
  },
  {
   "cell_type": "code",
   "execution_count": null,
   "metadata": {},
   "outputs": [],
   "source": [
    "\n",
    "df1 = df[(df['X0'] == 0) & (df['X2'] == 0)]\n",
    "df2 = df[(df['X0'] == 1) & (df['X3'] == 1)]\n",
    "df3 = df[(df['X0'] == 1) & (df['X4'] == 1)]\n",
    "df4 = df[(df['X0'] == 1) & (df['X5'] == 0)]\n",
    "\n",
    "df5 = df[(df['X2'] == 1) & (df['X5'] == 0)]\n",
    "df6 = df[(df['X2'] == 1) & (df['X4'] == 1)]\n",
    "df7 = df[(df['X0'] == 1) & (df['X5'] == 0)]\n",
    "\n",
    "df8 = df[(df['X3'] == 1) & (df['X5'] == 0)]\n",
    "df9 = df[(df['X3'] == 1) & (df['X4'] == 1)]\n",
    "\n",
    "df10 = df[(df['X4'] == 1) & (df['X5'] == 0)]\n",
    "\n",
    "# \n",
    "\n",
    "\n",
    "\n",
    "cat_columns = ['X0', 'X1', 'X2', 'X3', 'X4', 'X5']\n",
    "def add_freq(df, column_name):\n",
    "    \n",
    "    for col in cat_columns:\n",
    "        df[f'{col}_freq'] = df[col].map(df[col].value_counts())\n",
    "        df = df.drop(col, axis = 1)\n",
    "    return df\n",
    "\n",
    "\n",
    "\n",
    "all_groups  = [df1, df2, df3, df4, df5, \n",
    "              df6, df7, df8, df9, df10]\n",
    "\n",
    "all_freq_df = [add_freq(group, cat_columns) for group in all_groups]\n",
    "all_mean_df = [pd.DataFrame(group.mean()).T for group in all_freq_df] \n",
    "all_groups  = pd.concat(all_mean_df).reset_index(drop=True)"
   ]
  },
  {
   "cell_type": "code",
   "execution_count": null,
   "metadata": {},
   "outputs": [],
   "source": [
    "all_groups"
   ]
  },
  {
   "cell_type": "code",
   "execution_count": null,
   "metadata": {},
   "outputs": [],
   "source": [
    "all_groups.head(5)"
   ]
  },
  {
   "cell_type": "code",
   "execution_count": null,
   "metadata": {},
   "outputs": [],
   "source": [
    "df1.head(5)"
   ]
  },
  {
   "cell_type": "code",
   "execution_count": null,
   "metadata": {},
   "outputs": [],
   "source": [
    "all_groups"
   ]
  },
  {
   "cell_type": "code",
   "execution_count": null,
   "metadata": {},
   "outputs": [],
   "source": [
    "from scipy import stats\n",
    "all_groups[(np.abs(stats.zscore(all_groups)) < 3).all(axis=1)]"
   ]
  },
  {
   "cell_type": "code",
   "execution_count": null,
   "metadata": {},
   "outputs": [],
   "source": [
    "def add_freq(df, column_name):\n",
    "    df[f'{column_name}_freq'] = df[column_name].map(df[column_name].value_counts())\n",
    "    df = df.drop(column_name, axis = 1)\n",
    "    return df\n",
    "\n",
    "\n",
    "# df = add_freq(df, 'X0')\n",
    "# df = add_freq(df, 'X1')\n",
    "# df = add_freq(df, 'X2')\n",
    "# df = add_freq(df, 'X5')\n",
    "# df = df.drop(['X0','X1','X3', 'X4'], axis = 1)\n",
    "# df.head(5)\n",
    "\n",
    "\n",
    "\n",
    "def gen(df, k):\n",
    "    ui = []\n",
    "    for i in range(k):\n",
    "        dfg = df.sample(i+2)\n",
    "#         dfg = add_freq(dfg, 'X0')\n",
    "#         dfg = add_freq(dfg, 'X2')\n",
    "#         dfg = add_freq(dfg, 'X3')\n",
    "#         dfg = add_freq(dfg, 'X5')\n",
    "        ui.append(dfg)\n",
    "    return ui\n",
    "\n",
    "\n",
    "trt = gen(df, 10)\n",
    "def gene_all(dfs):\n",
    "    final_d = []\n",
    "    \n",
    "    for k in dfs:\n",
    "        final_d.append(pd.DataFrame(k.mean()).T)\n",
    "    return final_d\n",
    "\n",
    "tw = gene_all(trt)\n",
    "drt= pd.concat(tw).reset_index(drop=True)\n",
    "drt"
   ]
  },
  {
   "cell_type": "code",
   "execution_count": null,
   "metadata": {},
   "outputs": [],
   "source": [
    "from scipy import stats\n",
    "df[(np.abs(stats.zscore(df)) < 3).all(axis=1)]"
   ]
  },
  {
   "cell_type": "code",
   "execution_count": null,
   "metadata": {},
   "outputs": [],
   "source": []
  },
  {
   "cell_type": "code",
   "execution_count": null,
   "metadata": {},
   "outputs": [],
   "source": [
    "from scipy import stats\n",
    "z_scores = stats.zscore(drt)\n",
    "\n",
    "z_scores"
   ]
  },
  {
   "cell_type": "code",
   "execution_count": null,
   "metadata": {},
   "outputs": [],
   "source": [
    "abs_z_scores = np.abs(z_scores)\n",
    "abs_z_scores\n"
   ]
  },
  {
   "cell_type": "code",
   "execution_count": null,
   "metadata": {},
   "outputs": [],
   "source": [
    "filtered_entries = (abs_z_scores < 2).all(axis=1)\n",
    "new_df = drt[filtered_entries]\n",
    "\n",
    "print(new_df)"
   ]
  },
  {
   "cell_type": "code",
   "execution_count": null,
   "metadata": {},
   "outputs": [],
   "source": [
    "def outlier_detect(df):\n",
    "    for i in df.describe().columns:\n",
    "        Q1=df.describe().at['25%',i]\n",
    "        Q3=df.describe().at['75%',i]\n",
    "        \n",
    "        print(Q1, Q3)\n",
    "        IQR=Q3 - Q1\n",
    "        LTV=Q1 - 1.5 * IQR\n",
    "        UTV=Q3 + 1.5 * IQR\n",
    "        x=np.array(df[i])\n",
    "        p=[]\n",
    "        for j in x:\n",
    "            if j < LTV or j>UTV:\n",
    "                p.append(df[i].median())\n",
    "            else:\n",
    "                p.append(j)\n",
    "        df[i]=p\n",
    "    return df\n",
    "\n",
    "outlier_detect(drt)"
   ]
  },
  {
   "cell_type": "code",
   "execution_count": null,
   "metadata": {},
   "outputs": [],
   "source": []
  },
  {
   "cell_type": "code",
   "execution_count": null,
   "metadata": {},
   "outputs": [],
   "source": []
  },
  {
   "cell_type": "code",
   "execution_count": null,
   "metadata": {},
   "outputs": [],
   "source": [
    "m = pd.DataFrame(df.mean()).T\n",
    "m"
   ]
  },
  {
   "cell_type": "code",
   "execution_count": null,
   "metadata": {},
   "outputs": [],
   "source": [
    "n = pd.DataFrame(df.std()).T"
   ]
  },
  {
   "cell_type": "code",
   "execution_count": null,
   "metadata": {},
   "outputs": [],
   "source": [
    "n"
   ]
  },
  {
   "cell_type": "code",
   "execution_count": null,
   "metadata": {},
   "outputs": [],
   "source": [
    "new_cdf = pd.concat([m]*3, ignore_index=True)\n",
    "new_cdf"
   ]
  },
  {
   "cell_type": "code",
   "execution_count": null,
   "metadata": {},
   "outputs": [],
   "source": [
    "ty =  {'X0': {0: 1, 1: 1, 2: 1, 3: 1, 4: 0, 5: 1, 6: 1, 7: 1, 8: 0, 9: 1, 10: 0, 11: 1, 12: 0, 13: 1, 14: 1, 15: 1, 16: 0, 17: 0, 18: 0, 19: 1, 20: 0, 21: 1, 22: 1, 23: 1, 24: 1, 25: 0, 26: 1, 27: 1, 28: 1, 29: 1, 30: 0, 31: 1, 32: 0, 33: 1, 34: 0, 35: 1, 36: 1, 37: 0, 38: 1, 39: 0, 40: 1, 41: 0, 42: 1, 43: 0, 44: 0, 45: 1, 46: 1, 47: 1, 48: 1, 49: 0}, 'X1': {0: -0.037112917323895135, 1: -0.10487134240202785, 2: -1.2231079338781112, 3: -1.4422747724730558, 4: 1.1903093112171788, 5: 0.16264503017608584, 6: 0.09575885513801816, 7: -0.04065753545650327, 8: 0.9811627656097434, 9: -1.0895731715012618, 10: 1.2771663221280398, 11: 0.20642136730493899, 12: 1.4502341066082816, 13: 0.393823431298906, 14: 0.3451716634317143, 15: 0.4709902758164765, 16: 0.9982956103799087, 17: 1.189077916373609, 18: 0.9234439359961105, 19: -1.3255857892440723, 20: 1.2098373846214483, 21: -1.0264301443260604, 22: -1.2752711175444444, 23: -1.1775143284917524, 24: 0.259560479915767, 25: 0.8873566136283076, 26: 0.21516987874467863, 27: -1.1480968752611762, 28: -1.1903434754082, 29: 0.16553499639585526, 30: -0.027563846470247143, 31: 0.19474819789386086, 32: 1.5332001783034717, 33: -1.4746621814990961, 34: 0.9251147862187328, 35: 0.009242841373200278, 36: -1.4155649459675044, 37: 1.1476020465617858, 38: -1.3349528515873126, 39: 1.3090049690691499, 40: -1.0159692538569027, 41: 1.006261902461321, 42: -1.161160155994317, 43: 0.8833114074575376, 44: 1.0811966452823563, 45: -1.368200135415236, 46: -1.556580287072397, 47: -1.2006674694322674, 48: 0.13038922844618558, 49: 0.9941283827531714}, 'X2': {0: 1, 1: 1, 2: 0, 3: 0, 4: 0, 5: 1, 6: 1, 7: 1, 8: 0, 9: 0, 10: 0, 11: 1, 12: 0, 13: 1, 14: 1, 15: 1, 16: 0, 17: 0, 18: 0, 19: 0, 20: 0, 21: 0, 22: 0, 23: 0, 24: 1, 25: 0, 26: 1, 27: 0, 28: 0, 29: 1, 30: 1, 31: 1, 32: 0, 33: 0, 34: 0, 35: 1, 36: 0, 37: 0, 38: 0, 39: 0, 40: 0, 41: 0, 42: 0, 43: 0, 44: 0, 45: 0, 46: 0, 47: 0, 48: 1, 49: 0}, 'X3': {0: 0, 1: 0, 2: 1, 3: 1, 4: 1, 5: 0, 6: 0, 7: 0, 8: 0, 9: 1, 10: 0, 11: 0, 12: 1, 13: 0, 14: 0, 15: 0, 16: 1, 17: 0, 18: 1, 19: 1, 20: 1, 21: 1, 22: 1, 23: 0, 24: 0, 25: 1, 26: 0, 27: 1, 28: 1, 29: 0, 30: 0, 31: 0, 32: 1, 33: 1, 34: 1, 35: 0, 36: 1, 37: 1, 38: 1, 39: 0, 40: 1, 41: 1, 42: 1, 43: 1, 44: 1, 45: 1, 46: 1, 47: 1, 48: 0, 49: 1}, 'X4': {0: 1, 1: 1, 2: 1, 3: 1, 4: 0, 5: 1, 6: 1, 7: 1, 8: 0, 9: 1, 10: 0, 11: 1, 12: 0, 13: 1, 14: 1, 15: 1, 16: 0, 17: 0, 18: 0, 19: 1, 20: 0, 21: 1, 22: 1, 23: 1, 24: 1, 25: 0, 26: 1, 27: 1, 28: 1, 29: 1, 30: 1, 31: 1, 32: 0, 33: 1, 34: 0, 35: 1, 36: 1, 37: 0, 38: 1, 39: 0, 40: 1, 41: 0, 42: 1, 43: 0, 44: 0, 45: 1, 46: 1, 47: 1, 48: 1, 49: 0}, 'X5': {0: -1.6251996907891026, 1: -1.4952824550113089, 2: 0.5929477365851917, 3: 0.5188383985894559, 4: 0.8379329230408614, 5: -1.459754180360659, 6: -1.3954747896019781, 7: -1.4228738797414382, 8: 0.7961049502619677, 9: 0.5969844287269782, 10: 0.6254616540670719, 11: -1.1973174138607352, 12: 0.6743779844553507, 13: -1.3773048616218415, 14: -1.5502881165079259, 15: -1.410649926526345, 16: 0.966418551153225, 17: 0.8413042649713098, 18: 0.5947398261267023, 19: 0.5285211133411081, 20: 0.8154880527487283, 21: 0.685523955516477, 22: 0.7052301139466511, 23: 0.5694387744666269, 24: -1.3660759251156689, 25: 0.7376392137717523, 26: -1.2965881798979835, 27: 0.3247985508699227, 28: 0.8492845744063385, 29: -1.3631982627466268, 30: -1.5593937453283628, 31: -1.5647378670163918, 32: 0.7184017737689418, 33: 0.5401478202493889, 34: 0.8549277265014412, 35: -1.4324174459510242, 36: 0.5699907448414805, 37: 0.5278269967299144, 38: 0.6544095431196703, 39: 0.9956765313323911, 40: 0.49341021793456574, 41: 0.8777030715347666, 42: 0.5628001790223106, 43: 0.6932468790071539, 44: 0.5944907552098264, 45: 0.6628094310909329, 46: 0.660678722318602, 47: 0.68454503898171, 48: -1.5961965190965848, 49: 0.7606527604851616}, 'X6': {0: 0, 1: 0, 2: 0, 3: 0, 4: 1, 5: 0, 6: 0, 7: 0, 8: 1, 9: 0, 10: 1, 11: 0, 12: 1, 13: 0, 14: 0, 15: 0, 16: 1, 17: 1, 18: 1, 19: 0, 20: 1, 21: 0, 22: 0, 23: 0, 24: 0, 25: 1, 26: 0, 27: 0, 28: 0, 29: 0, 30: 0, 31: 0, 32: 1, 33: 0, 34: 1, 35: 0, 36: 0, 37: 1, 38: 0, 39: 1, 40: 0, 41: 1, 42: 0, 43: 1, 44: 1, 45: 0, 46: 0, 47: 0, 48: 0, 49: 1}, 'X7': {0: 0, 1: 0, 2: 1, 3: 0, 4: 0, 5: 0, 6: 0, 7: 0, 8: 0, 9: 0, 10: 0, 11: 0, 12: 0, 13: 0, 14: 0, 15: 0, 16: 0, 17: 0, 18: 0, 19: 0, 20: 0, 21: 1, 22: 0, 23: 1, 24: 0, 25: 0, 26: 0, 27: 0, 28: 1, 29: 0, 30: 0, 31: 0, 32: 0, 33: 1, 34: 0, 35: 0, 36: 1, 37: 0, 38: 1, 39: 0, 40: 1, 41: 0, 42: 0, 43: 0, 44: 0, 45: 1, 46: 0, 47: 1, 48: 0, 49: 0}}\n"
   ]
  },
  {
   "cell_type": "code",
   "execution_count": null,
   "metadata": {},
   "outputs": [],
   "source": [
    "df_mran"
   ]
  },
  {
   "cell_type": "code",
   "execution_count": null,
   "metadata": {},
   "outputs": [],
   "source": [
    "from scipy.stats import pearsonr\n",
    "df= all_groups.drop\n",
    "column_values = [column for column in df.columns.tolist() ]\n",
    "\n",
    "\n",
    "df['Correlation_coefficent'], df['P-value'] = zip(*df.T.apply(lambda x: pearsonr(x[column_values ],x[column_values ])))\n",
    "df_result = df[['Correlation_coefficent','P-value']]"
   ]
  },
  {
   "cell_type": "code",
   "execution_count": null,
   "metadata": {},
   "outputs": [],
   "source": [
    "all_groups"
   ]
  },
  {
   "cell_type": "code",
   "execution_count": null,
   "metadata": {},
   "outputs": [],
   "source": [
    "from sklearn.neighbors import DistanceMetric\n",
    "import pandas as pd\n",
    "import numpy as np\n",
    "\n",
    "def calculate_gower_distance(df):\n",
    "  \n",
    "  '''\n",
    "  Takes a dataframe as an input and returns the gower distance\n",
    "  matrix.\n",
    "  \n",
    "  '''\n",
    "\n",
    "  variable_distances = []\n",
    "  \n",
    "  for col in range(df.shape[1]):\n",
    "    \n",
    "    feature = df.iloc[:,[col]]\n",
    "    if feature.dtypes.values == np.object:\n",
    "      \n",
    "      feature_dist = DistanceMetric.get_metric('dice').pairwise(pd.get_dummies(feature, drop_first=True))\n",
    "        \n",
    "    else:\n",
    "      \n",
    "      feature_dist = DistanceMetric.get_metric('manhattan').pairwise(feature) / max(np.ptp(feature.values),1)\n",
    "\n",
    "\n",
    "      variable_distances.append(feature_dist)\n",
    "      \n",
    "\n",
    "  return np.array(variable_distances).mean(0)"
   ]
  },
  {
   "cell_type": "code",
   "execution_count": null,
   "metadata": {},
   "outputs": [],
   "source": [
    "calculate_gower_distance(df)"
   ]
  },
  {
   "cell_type": "code",
   "execution_count": null,
   "metadata": {},
   "outputs": [],
   "source": [
    "import gower\n",
    "gower.gower_matrix(df)"
   ]
  },
  {
   "cell_type": "code",
   "execution_count": null,
   "metadata": {},
   "outputs": [],
   "source": [
    "import math \n",
    "def calculate_zscore(df, columns):\n",
    "  '''\n",
    "  scales columns in dataframe using z-score\n",
    "  '''\n",
    "  df = df.copy()\n",
    "  for col in columns:\n",
    "      df[col] = (df[col] - df[col].mean())/df[col].std(ddof=0)\n",
    "\n",
    "  return df\n",
    "\n",
    "\n",
    "\n",
    "def one_hot_encode(df, columns):\n",
    "  '''\n",
    "  one hot encodes list of columns and\n",
    "  concatenates them to the original df\n",
    "  '''\n",
    "\n",
    "  concat_df = pd.concat([pd.get_dummies(df[col], drop_first=True, prefix=col) for col in columns], axis=1)\n",
    "  one_hot_cols = concat_df.columns\n",
    "\n",
    "  return concat_df, one_hot_cols\n",
    "\n",
    "\n",
    "\n",
    "def normalize_column_modality(df, columns):\n",
    "  '''\n",
    "  divides each column by the probability μₘ of the modality \n",
    "  (number of ones in the column divided by N) only for one hot columns\n",
    "  '''\n",
    "\n",
    "  length = len(df)\n",
    "  for col in columns:\n",
    "    \n",
    "    weight = math.sqrt(sum(df[col])/length)\n",
    "    df[col] = df[col]/weight\n",
    "\n",
    "  return df\n",
    "\n",
    "\n",
    "\n",
    "def center_columns(df, columns):\n",
    "  '''\n",
    "  center columns by subtracting the mean value\n",
    "  '''\n",
    "  for col in columns:\n",
    "      df[col] = (df[col] - df[col].mean())\n",
    "\n",
    "  return df\n",
    "\n",
    "\n",
    "\n",
    "def FAMD_(df, n_components=2):\n",
    "  '''\n",
    "  Factorial Analysis of Mixed Data (FAMD), \n",
    "  which generalizes the Principal Component Analysis (PCA) \n",
    "  algorithm to datasets containing numerical and categorical variables\n",
    "\n",
    "  a) For the numerical variables\n",
    "    - Standard scale (= get the z-score)\n",
    "  \n",
    "  b) For the categorical variables:\n",
    "    - Get the one-hot encoded columns\n",
    "    - Divide each column by the square root of its probability sqrt(μₘ)\n",
    "    - Center the columns\n",
    "\n",
    "  c) Apply a PCA algorithm over the table obtained!\n",
    "\n",
    "  '''\n",
    "  \n",
    "  variable_distances = []\n",
    "\n",
    "  numeric_cols = df.select_dtypes(include=np.number)\n",
    "  cat_cols = df.select_dtypes(include='object')\n",
    "  \n",
    "  # numeric process\n",
    "  normalized_df = calculate_zscore(df, numeric_cols)\n",
    "  normalized_df = normalized_df[numeric_cols.columns]\n",
    "\n",
    "  # categorical process\n",
    "  cat_one_hot_df, one_hot_cols = one_hot_encode(df, cat_cols)\n",
    "  cat_one_hot_norm_df = normalize_column_modality(cat_one_hot_df, one_hot_cols)\n",
    "  cat_one_hot_norm_center_df = center_columns(cat_one_hot_norm_df, one_hot_cols)\n",
    "\n",
    "  # Merge DataFrames\n",
    "  processed_df = pd.concat([normalized_df, cat_one_hot_norm_center_df], axis=1)\n",
    "\n",
    "  # Perform (PCA)\n",
    "  pca = PCA(n_components=n_components)\n",
    "  principalComponents = pca.fit_transform(processed_df)\n",
    "\n",
    "  return principalComponents\n",
    "\n",
    "\n",
    "df, cat_columns, con_feats, y = get_dummy_data(50, \n",
    "                                               8, \n",
    "                                               6,\n",
    "                                               centers        = 3,\n",
    "                                               missing_values = None, \n",
    "                                               id_cols        = None)\n",
    "df.head(10)\n",
    "df = cobj(df, cat_columns)"
   ]
  },
  {
   "cell_type": "code",
   "execution_count": null,
   "metadata": {},
   "outputs": [],
   "source": [
    "FAMD_(df, n_components=2)"
   ]
  },
  {
   "cell_type": "code",
   "execution_count": null,
   "metadata": {},
   "outputs": [],
   "source": [
    "df.dtypes"
   ]
  },
  {
   "cell_type": "code",
   "execution_count": null,
   "metadata": {},
   "outputs": [],
   "source": [
    "famd_feats(df, cat_columns,\n",
    "                   no_of_components = 2)"
   ]
  },
  {
   "cell_type": "code",
   "execution_count": null,
   "metadata": {},
   "outputs": [],
   "source": []
  }
 ],
 "metadata": {
  "kernelspec": {
   "display_name": "Python 3",
   "language": "python",
   "name": "python3"
  },
  "language_info": {
   "codemirror_mode": {
    "name": "ipython",
    "version": 3
   },
   "file_extension": ".py",
   "mimetype": "text/x-python",
   "name": "python",
   "nbconvert_exporter": "python",
   "pygments_lexer": "ipython3",
   "version": "3.8.5"
  }
 },
 "nbformat": 4,
 "nbformat_minor": 4
}
