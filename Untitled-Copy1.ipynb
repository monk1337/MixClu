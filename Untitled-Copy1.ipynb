{
 "cells": [
  {
   "cell_type": "code",
   "execution_count": 1,
   "metadata": {},
   "outputs": [],
   "source": [
    "from mixclu import *"
   ]
  },
  {
   "cell_type": "code",
   "execution_count": 2,
   "metadata": {},
   "outputs": [],
   "source": [
    "df, cat_columns, y =  get_dummy_data(1000, \n",
    "                   10, \n",
    "                   5,\n",
    "                   5,\n",
    "                   missing_values = None, \n",
    "                   id_cols        = None)\n",
    "df                 = cobj(df, cat_columns)\n",
    "con_columns        = list(set(df.columns) - set(cat_columns))"
   ]
  },
  {
   "cell_type": "code",
   "execution_count": 9,
   "metadata": {},
   "outputs": [
    {
     "name": "stdout",
     "output_type": "stream",
     "text": [
      "[3, 4, 0, 1, 4, 3, 2, 1, 4, 3] [4 1 0 3 1 4 2 3 1 4]\n"
     ]
    }
   ],
   "source": [
    "\"\"\"Model : 1\"\"\"\n",
    "\n",
    "# 1. Cluster based on continuous data only\n",
    "\n",
    "\n",
    "df_cos = df[con_columns]\n",
    "result = kmeans_model(df_cos, 5, df_output = False)\n",
    "print(list(result['clusters'])[:10], y[:10])"
   ]
  },
  {
   "cell_type": "code",
   "execution_count": 11,
   "metadata": {},
   "outputs": [
    {
     "name": "stdout",
     "output_type": "stream",
     "text": [
      "[2, 4, 0, 3, 4, 2, 1, 3, 4, 2] [4 1 0 3 1 4 2 3 1 4]\n"
     ]
    }
   ],
   "source": [
    "\"\"\"Model : 2\"\"\"\n",
    "\n",
    "# 1. Cluster based on mix data with one hot encoding\n",
    "\n",
    "one_hot_result1 = kmeans_onehot_mix(df, \n",
    "                                   cat_columns, \n",
    "                                   5, \n",
    "                                   scale = None, \n",
    "                                   df_output    = False)\n",
    "print(list(one_hot_result1['clusters'])[:10], y[:10])"
   ]
  },
  {
   "cell_type": "code",
   "execution_count": 12,
   "metadata": {},
   "outputs": [
    {
     "name": "stdout",
     "output_type": "stream",
     "text": [
      "[3, 1, 0, 4, 1, 3, 2, 4, 1, 3] [4 1 0 3 1 4 2 3 1 4]\n"
     ]
    }
   ],
   "source": [
    "# k prototype result\n",
    "\n",
    "\"\"\"Model : 3\"\"\"\n",
    "\n",
    "k_proc_result = k_prot_model(df, cat_columns, 5)\n",
    "print(list(k_proc_result['clusters'])[:10], y[:10])"
   ]
  },
  {
   "cell_type": "code",
   "execution_count": 13,
   "metadata": {},
   "outputs": [
    {
     "name": "stdout",
     "output_type": "stream",
     "text": [
      "explained_inertia :  0.99\n",
      "[3, 2, 0, 1, 2, 3, 4, 1, 2, 3] [4 1 0 3 1 4 2 3 1 4]\n"
     ]
    }
   ],
   "source": [
    "\"\"\" Model : 4\"\"\"\n",
    "\n",
    "y_tr = kmeans_famd(df, cat_columns, 5, 'auto')\n",
    "print(list(y_tr['clusters'])[:10], y[:10])"
   ]
  },
  {
   "cell_type": "code",
   "execution_count": null,
   "metadata": {},
   "outputs": [],
   "source": [
    "    def __init__(\n",
    "        self,\n",
    "        random_state: int = None,\n",
    "        n_neighbors: int = 30,\n",
    "        min_samples: int = 15,\n",
    "        min_cluster_size: int = 100,\n",
    "        n_components: int = None,\n",
    "        cluster_selection_method: str = \"eom\",\n",
    "        umap_combine_method: str = \"intersection\",\n",
    "        verbose: bool = False,\n",
    "    ):"
   ]
  },
  {
   "cell_type": "code",
   "execution_count": null,
   "metadata": {},
   "outputs": [],
   "source": []
  },
  {
   "cell_type": "code",
   "execution_count": null,
   "metadata": {},
   "outputs": [],
   "source": []
  }
 ],
 "metadata": {
  "kernelspec": {
   "display_name": "Python 3",
   "language": "python",
   "name": "python3"
  },
  "language_info": {
   "codemirror_mode": {
    "name": "ipython",
    "version": 3
   },
   "file_extension": ".py",
   "mimetype": "text/x-python",
   "name": "python",
   "nbconvert_exporter": "python",
   "pygments_lexer": "ipython3",
   "version": "3.8.5"
  }
 },
 "nbformat": 4,
 "nbformat_minor": 4
}
